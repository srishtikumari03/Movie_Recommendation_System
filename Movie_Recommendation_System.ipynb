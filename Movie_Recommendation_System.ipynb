{
  "nbformat": 4,
  "nbformat_minor": 0,
  "metadata": {
    "colab": {
      "name": "Movie_Recommendation_System.ipynb",
      "provenance": [],
      "collapsed_sections": []
    },
    "kernelspec": {
      "name": "python3",
      "display_name": "Python 3"
    },
    "language_info": {
      "name": "python"
    }
  },
  "cells": [
    {
      "cell_type": "markdown",
      "source": [
        "# **Introduction**"
      ],
      "metadata": {
        "id": "9XKFmSHEu21x"
      }
    },
    {
      "cell_type": "markdown",
      "source": [
        "This is a User-based Collaborative Movie Recommendation System build using [MovieLens Dataset](https://grouplens.org/datasets/movielens/100k/).\n",
        "\n",
        "How this system works?\n",
        "\n",
        "* Similarities between users are computed.\n",
        "*  Based on the computed similarities, recommend movies liked by similar users and not watched by the target user."
      ],
      "metadata": {
        "id": "hcGh9K9cvAcf"
      }
    },
    {
      "cell_type": "markdown",
      "source": [
        "![User-based.png](data:image/png;base64,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)"
      ],
      "metadata": {
        "id": "LF3487-W-pta"
      }
    },
    {
      "cell_type": "markdown",
      "source": [
        "# **Load Data**"
      ],
      "metadata": {
        "id": "6Zx48oSK-yqN"
      }
    },
    {
      "cell_type": "code",
      "source": [
        "import pandas as pd\n",
        "import numpy as np\n",
        "import matplotlib.pyplot as plt\n",
        "import seaborn as sns\n",
        "from sklearn.neighbors import NearestNeighbors"
      ],
      "metadata": {
        "id": "e6R4JPr10zSn"
      },
      "execution_count": 79,
      "outputs": []
    },
    {
      "cell_type": "markdown",
      "source": [
        "ratings dataset contains the following features:-\n",
        "\n",
        "* userId\n",
        "* movieId\n",
        "* rating \n",
        "* timestamp"
      ],
      "metadata": {
        "id": "JQqpb12ki5CI"
      }
    },
    {
      "cell_type": "code",
      "source": [
        "cols = ['userId','movieId','rating','timestamp']\n",
        "ratings = pd.read_csv('u.data', sep = '\\t', names = cols)\n",
        "ratings.head()"
      ],
      "metadata": {
        "colab": {
          "base_uri": "https://localhost:8080/",
          "height": 206
        },
        "id": "rDxlHSrv0wz5",
        "outputId": "5f259202-2b52-4fc0-9888-0f4f783da450"
      },
      "execution_count": 80,
      "outputs": [
        {
          "output_type": "execute_result",
          "data": {
            "text/plain": [
              "   userId  movieId  rating  timestamp\n",
              "0     196      242       3  881250949\n",
              "1     186      302       3  891717742\n",
              "2      22      377       1  878887116\n",
              "3     244       51       2  880606923\n",
              "4     166      346       1  886397596"
            ],
            "text/html": [
              "\n",
              "  <div id=\"df-73d9c489-c9da-45aa-83a7-2e1c0ab27ae4\">\n",
              "    <div class=\"colab-df-container\">\n",
              "      <div>\n",
              "<style scoped>\n",
              "    .dataframe tbody tr th:only-of-type {\n",
              "        vertical-align: middle;\n",
              "    }\n",
              "\n",
              "    .dataframe tbody tr th {\n",
              "        vertical-align: top;\n",
              "    }\n",
              "\n",
              "    .dataframe thead th {\n",
              "        text-align: right;\n",
              "    }\n",
              "</style>\n",
              "<table border=\"1\" class=\"dataframe\">\n",
              "  <thead>\n",
              "    <tr style=\"text-align: right;\">\n",
              "      <th></th>\n",
              "      <th>userId</th>\n",
              "      <th>movieId</th>\n",
              "      <th>rating</th>\n",
              "      <th>timestamp</th>\n",
              "    </tr>\n",
              "  </thead>\n",
              "  <tbody>\n",
              "    <tr>\n",
              "      <th>0</th>\n",
              "      <td>196</td>\n",
              "      <td>242</td>\n",
              "      <td>3</td>\n",
              "      <td>881250949</td>\n",
              "    </tr>\n",
              "    <tr>\n",
              "      <th>1</th>\n",
              "      <td>186</td>\n",
              "      <td>302</td>\n",
              "      <td>3</td>\n",
              "      <td>891717742</td>\n",
              "    </tr>\n",
              "    <tr>\n",
              "      <th>2</th>\n",
              "      <td>22</td>\n",
              "      <td>377</td>\n",
              "      <td>1</td>\n",
              "      <td>878887116</td>\n",
              "    </tr>\n",
              "    <tr>\n",
              "      <th>3</th>\n",
              "      <td>244</td>\n",
              "      <td>51</td>\n",
              "      <td>2</td>\n",
              "      <td>880606923</td>\n",
              "    </tr>\n",
              "    <tr>\n",
              "      <th>4</th>\n",
              "      <td>166</td>\n",
              "      <td>346</td>\n",
              "      <td>1</td>\n",
              "      <td>886397596</td>\n",
              "    </tr>\n",
              "  </tbody>\n",
              "</table>\n",
              "</div>\n",
              "      <button class=\"colab-df-convert\" onclick=\"convertToInteractive('df-73d9c489-c9da-45aa-83a7-2e1c0ab27ae4')\"\n",
              "              title=\"Convert this dataframe to an interactive table.\"\n",
              "              style=\"display:none;\">\n",
              "        \n",
              "  <svg xmlns=\"http://www.w3.org/2000/svg\" height=\"24px\"viewBox=\"0 0 24 24\"\n",
              "       width=\"24px\">\n",
              "    <path d=\"M0 0h24v24H0V0z\" fill=\"none\"/>\n",
              "    <path d=\"M18.56 5.44l.94 2.06.94-2.06 2.06-.94-2.06-.94-.94-2.06-.94 2.06-2.06.94zm-11 1L8.5 8.5l.94-2.06 2.06-.94-2.06-.94L8.5 2.5l-.94 2.06-2.06.94zm10 10l.94 2.06.94-2.06 2.06-.94-2.06-.94-.94-2.06-.94 2.06-2.06.94z\"/><path d=\"M17.41 7.96l-1.37-1.37c-.4-.4-.92-.59-1.43-.59-.52 0-1.04.2-1.43.59L10.3 9.45l-7.72 7.72c-.78.78-.78 2.05 0 2.83L4 21.41c.39.39.9.59 1.41.59.51 0 1.02-.2 1.41-.59l7.78-7.78 2.81-2.81c.8-.78.8-2.07 0-2.86zM5.41 20L4 18.59l7.72-7.72 1.47 1.35L5.41 20z\"/>\n",
              "  </svg>\n",
              "      </button>\n",
              "      \n",
              "  <style>\n",
              "    .colab-df-container {\n",
              "      display:flex;\n",
              "      flex-wrap:wrap;\n",
              "      gap: 12px;\n",
              "    }\n",
              "\n",
              "    .colab-df-convert {\n",
              "      background-color: #E8F0FE;\n",
              "      border: none;\n",
              "      border-radius: 50%;\n",
              "      cursor: pointer;\n",
              "      display: none;\n",
              "      fill: #1967D2;\n",
              "      height: 32px;\n",
              "      padding: 0 0 0 0;\n",
              "      width: 32px;\n",
              "    }\n",
              "\n",
              "    .colab-df-convert:hover {\n",
              "      background-color: #E2EBFA;\n",
              "      box-shadow: 0px 1px 2px rgba(60, 64, 67, 0.3), 0px 1px 3px 1px rgba(60, 64, 67, 0.15);\n",
              "      fill: #174EA6;\n",
              "    }\n",
              "\n",
              "    [theme=dark] .colab-df-convert {\n",
              "      background-color: #3B4455;\n",
              "      fill: #D2E3FC;\n",
              "    }\n",
              "\n",
              "    [theme=dark] .colab-df-convert:hover {\n",
              "      background-color: #434B5C;\n",
              "      box-shadow: 0px 1px 3px 1px rgba(0, 0, 0, 0.15);\n",
              "      filter: drop-shadow(0px 1px 2px rgba(0, 0, 0, 0.3));\n",
              "      fill: #FFFFFF;\n",
              "    }\n",
              "  </style>\n",
              "\n",
              "      <script>\n",
              "        const buttonEl =\n",
              "          document.querySelector('#df-73d9c489-c9da-45aa-83a7-2e1c0ab27ae4 button.colab-df-convert');\n",
              "        buttonEl.style.display =\n",
              "          google.colab.kernel.accessAllowed ? 'block' : 'none';\n",
              "\n",
              "        async function convertToInteractive(key) {\n",
              "          const element = document.querySelector('#df-73d9c489-c9da-45aa-83a7-2e1c0ab27ae4');\n",
              "          const dataTable =\n",
              "            await google.colab.kernel.invokeFunction('convertToInteractive',\n",
              "                                                     [key], {});\n",
              "          if (!dataTable) return;\n",
              "\n",
              "          const docLinkHtml = 'Like what you see? Visit the ' +\n",
              "            '<a target=\"_blank\" href=https://colab.research.google.com/notebooks/data_table.ipynb>data table notebook</a>'\n",
              "            + ' to learn more about interactive tables.';\n",
              "          element.innerHTML = '';\n",
              "          dataTable['output_type'] = 'display_data';\n",
              "          await google.colab.output.renderOutput(dataTable, element);\n",
              "          const docLink = document.createElement('div');\n",
              "          docLink.innerHTML = docLinkHtml;\n",
              "          element.appendChild(docLink);\n",
              "        }\n",
              "      </script>\n",
              "    </div>\n",
              "  </div>\n",
              "  "
            ]
          },
          "metadata": {},
          "execution_count": 80
        }
      ]
    },
    {
      "cell_type": "markdown",
      "source": [
        "In movies dataset features required:-\n",
        "\n",
        "* id - A unique identifier for each movie.\n",
        "* belongs_to_collection: Name of the movie.\n"
      ],
      "metadata": {
        "id": "mJSDBIjJad5G"
      }
    },
    {
      "cell_type": "code",
      "source": [
        "import chardet\n",
        "with open('u.item', 'rb') as rawdata:\n",
        "    result = chardet.detect(rawdata.read(100000))\n",
        "result"
      ],
      "metadata": {
        "colab": {
          "base_uri": "https://localhost:8080/"
        },
        "id": "x1otM1p1NHs5",
        "outputId": "f17a4238-fda1-44a7-bd2c-f745b5f02def"
      },
      "execution_count": 81,
      "outputs": [
        {
          "output_type": "execute_result",
          "data": {
            "text/plain": [
              "{'confidence': 0.73, 'encoding': 'ISO-8859-1', 'language': ''}"
            ]
          },
          "metadata": {},
          "execution_count": 81
        }
      ]
    },
    {
      "cell_type": "code",
      "source": [
        "cols = ['movieId', 'Name', 0, 1, 2, 3, 4, 5, 6, 7, 8, 9, 10, 11, 12, 13, 14, 15, 16,  17, 18, 19, 20, 21]\n",
        "movies = pd.read_csv('u.item', sep = '|', encoding='ISO-8859-1', names = cols)\n",
        "movies = movies[['movieId', 'Name']]\n",
        "movies.head()"
      ],
      "metadata": {
        "colab": {
          "base_uri": "https://localhost:8080/",
          "height": 206
        },
        "id": "UMOAIXtvi5de",
        "outputId": "49c99a61-c414-4769-f20d-23574c1117cf"
      },
      "execution_count": 82,
      "outputs": [
        {
          "output_type": "execute_result",
          "data": {
            "text/plain": [
              "   movieId               Name\n",
              "0        1   Toy Story (1995)\n",
              "1        2   GoldenEye (1995)\n",
              "2        3  Four Rooms (1995)\n",
              "3        4  Get Shorty (1995)\n",
              "4        5     Copycat (1995)"
            ],
            "text/html": [
              "\n",
              "  <div id=\"df-2ddacafc-eb91-4625-80a5-4670ef8cfe7b\">\n",
              "    <div class=\"colab-df-container\">\n",
              "      <div>\n",
              "<style scoped>\n",
              "    .dataframe tbody tr th:only-of-type {\n",
              "        vertical-align: middle;\n",
              "    }\n",
              "\n",
              "    .dataframe tbody tr th {\n",
              "        vertical-align: top;\n",
              "    }\n",
              "\n",
              "    .dataframe thead th {\n",
              "        text-align: right;\n",
              "    }\n",
              "</style>\n",
              "<table border=\"1\" class=\"dataframe\">\n",
              "  <thead>\n",
              "    <tr style=\"text-align: right;\">\n",
              "      <th></th>\n",
              "      <th>movieId</th>\n",
              "      <th>Name</th>\n",
              "    </tr>\n",
              "  </thead>\n",
              "  <tbody>\n",
              "    <tr>\n",
              "      <th>0</th>\n",
              "      <td>1</td>\n",
              "      <td>Toy Story (1995)</td>\n",
              "    </tr>\n",
              "    <tr>\n",
              "      <th>1</th>\n",
              "      <td>2</td>\n",
              "      <td>GoldenEye (1995)</td>\n",
              "    </tr>\n",
              "    <tr>\n",
              "      <th>2</th>\n",
              "      <td>3</td>\n",
              "      <td>Four Rooms (1995)</td>\n",
              "    </tr>\n",
              "    <tr>\n",
              "      <th>3</th>\n",
              "      <td>4</td>\n",
              "      <td>Get Shorty (1995)</td>\n",
              "    </tr>\n",
              "    <tr>\n",
              "      <th>4</th>\n",
              "      <td>5</td>\n",
              "      <td>Copycat (1995)</td>\n",
              "    </tr>\n",
              "  </tbody>\n",
              "</table>\n",
              "</div>\n",
              "      <button class=\"colab-df-convert\" onclick=\"convertToInteractive('df-2ddacafc-eb91-4625-80a5-4670ef8cfe7b')\"\n",
              "              title=\"Convert this dataframe to an interactive table.\"\n",
              "              style=\"display:none;\">\n",
              "        \n",
              "  <svg xmlns=\"http://www.w3.org/2000/svg\" height=\"24px\"viewBox=\"0 0 24 24\"\n",
              "       width=\"24px\">\n",
              "    <path d=\"M0 0h24v24H0V0z\" fill=\"none\"/>\n",
              "    <path d=\"M18.56 5.44l.94 2.06.94-2.06 2.06-.94-2.06-.94-.94-2.06-.94 2.06-2.06.94zm-11 1L8.5 8.5l.94-2.06 2.06-.94-2.06-.94L8.5 2.5l-.94 2.06-2.06.94zm10 10l.94 2.06.94-2.06 2.06-.94-2.06-.94-.94-2.06-.94 2.06-2.06.94z\"/><path d=\"M17.41 7.96l-1.37-1.37c-.4-.4-.92-.59-1.43-.59-.52 0-1.04.2-1.43.59L10.3 9.45l-7.72 7.72c-.78.78-.78 2.05 0 2.83L4 21.41c.39.39.9.59 1.41.59.51 0 1.02-.2 1.41-.59l7.78-7.78 2.81-2.81c.8-.78.8-2.07 0-2.86zM5.41 20L4 18.59l7.72-7.72 1.47 1.35L5.41 20z\"/>\n",
              "  </svg>\n",
              "      </button>\n",
              "      \n",
              "  <style>\n",
              "    .colab-df-container {\n",
              "      display:flex;\n",
              "      flex-wrap:wrap;\n",
              "      gap: 12px;\n",
              "    }\n",
              "\n",
              "    .colab-df-convert {\n",
              "      background-color: #E8F0FE;\n",
              "      border: none;\n",
              "      border-radius: 50%;\n",
              "      cursor: pointer;\n",
              "      display: none;\n",
              "      fill: #1967D2;\n",
              "      height: 32px;\n",
              "      padding: 0 0 0 0;\n",
              "      width: 32px;\n",
              "    }\n",
              "\n",
              "    .colab-df-convert:hover {\n",
              "      background-color: #E2EBFA;\n",
              "      box-shadow: 0px 1px 2px rgba(60, 64, 67, 0.3), 0px 1px 3px 1px rgba(60, 64, 67, 0.15);\n",
              "      fill: #174EA6;\n",
              "    }\n",
              "\n",
              "    [theme=dark] .colab-df-convert {\n",
              "      background-color: #3B4455;\n",
              "      fill: #D2E3FC;\n",
              "    }\n",
              "\n",
              "    [theme=dark] .colab-df-convert:hover {\n",
              "      background-color: #434B5C;\n",
              "      box-shadow: 0px 1px 3px 1px rgba(0, 0, 0, 0.15);\n",
              "      filter: drop-shadow(0px 1px 2px rgba(0, 0, 0, 0.3));\n",
              "      fill: #FFFFFF;\n",
              "    }\n",
              "  </style>\n",
              "\n",
              "      <script>\n",
              "        const buttonEl =\n",
              "          document.querySelector('#df-2ddacafc-eb91-4625-80a5-4670ef8cfe7b button.colab-df-convert');\n",
              "        buttonEl.style.display =\n",
              "          google.colab.kernel.accessAllowed ? 'block' : 'none';\n",
              "\n",
              "        async function convertToInteractive(key) {\n",
              "          const element = document.querySelector('#df-2ddacafc-eb91-4625-80a5-4670ef8cfe7b');\n",
              "          const dataTable =\n",
              "            await google.colab.kernel.invokeFunction('convertToInteractive',\n",
              "                                                     [key], {});\n",
              "          if (!dataTable) return;\n",
              "\n",
              "          const docLinkHtml = 'Like what you see? Visit the ' +\n",
              "            '<a target=\"_blank\" href=https://colab.research.google.com/notebooks/data_table.ipynb>data table notebook</a>'\n",
              "            + ' to learn more about interactive tables.';\n",
              "          element.innerHTML = '';\n",
              "          dataTable['output_type'] = 'display_data';\n",
              "          await google.colab.output.renderOutput(dataTable, element);\n",
              "          const docLink = document.createElement('div');\n",
              "          docLink.innerHTML = docLinkHtml;\n",
              "          element.appendChild(docLink);\n",
              "        }\n",
              "      </script>\n",
              "    </div>\n",
              "  </div>\n",
              "  "
            ]
          },
          "metadata": {},
          "execution_count": 82
        }
      ]
    },
    {
      "cell_type": "markdown",
      "source": [
        "# **Data Preprocessing**"
      ],
      "metadata": {
        "id": "7wG1wevPgGIO"
      }
    },
    {
      "cell_type": "markdown",
      "source": [
        "**Transforming data into required user-movie rating dataset**"
      ],
      "metadata": {
        "id": "bsjXAQUpqUYN"
      }
    },
    {
      "cell_type": "code",
      "source": [
        "ratings.userId.unique()"
      ],
      "metadata": {
        "colab": {
          "base_uri": "https://localhost:8080/"
        },
        "id": "wBBUdiqr41Q-",
        "outputId": "82e8a217-c8d1-4bf8-af20-e7349ba18075"
      },
      "execution_count": null,
      "outputs": [
        {
          "output_type": "execute_result",
          "data": {
            "text/plain": [
              "array([196, 186,  22, 244, 166, 298, 115, 253, 305,   6,  62, 286, 200,\n",
              "       210, 224, 303, 122, 194, 291, 234, 119, 167, 299, 308,  95,  38,\n",
              "       102,  63, 160,  50, 301, 225, 290,  97, 157, 181, 278, 276,   7,\n",
              "        10, 284, 201, 287, 246, 242, 249,  99, 178, 251,  81, 260,  25,\n",
              "        59,  72,  87,  42, 292,  20,  13, 138,  60,  57, 223, 189, 243,\n",
              "        92, 241, 254, 293, 127, 222, 267,  11,   8, 162, 279, 145,  28,\n",
              "       135,  32,  90, 216, 250, 271, 265, 198, 168, 110,  58, 237,  94,\n",
              "       128,  44, 264,  41,  82, 262, 174,  43,  84, 269, 259,  85, 213,\n",
              "       121,  49, 155,  68, 172,  19, 268,   5,  80,  66,  18,  26, 130,\n",
              "       256,   1,  56,  15, 207, 232,  52, 161, 148, 125,  83, 272, 151,\n",
              "        54,  16,  91, 294, 229,  36,  70,  14, 295, 233, 214, 192, 100,\n",
              "       307, 297, 193, 113, 275, 219, 218, 123, 158, 302,  23, 296,  33,\n",
              "       154,  77, 270, 187, 170, 101, 184, 112, 133, 215,  69, 104, 240,\n",
              "       144, 191,  61, 142, 177, 203,  21, 197, 134, 180, 236, 263, 109,\n",
              "        64, 114, 239, 117,  65, 137, 257, 111, 285,  96, 116,  73, 221,\n",
              "       235, 164, 281, 182, 129,  45, 131, 230, 126, 231, 280, 288, 152,\n",
              "       217,  79,  75, 245, 282,  78, 118, 283, 171, 107, 226, 306, 173,\n",
              "       185, 150, 274, 188,  48, 311, 165, 208,   2, 205, 248,  93, 159,\n",
              "       146,  29, 156,  37, 141, 195, 108,  47, 255,  89, 140, 190,  24,\n",
              "        17, 313,  53, 124, 149, 176, 106, 312, 175, 153, 220, 143, 199,\n",
              "       202, 277, 206,  76, 314, 136, 179,   4, 304,   3, 227, 252, 212,\n",
              "       310,  35, 147, 105,  34,  71,  51, 204, 315,  31, 316, 103, 318,\n",
              "        30, 120,  46, 289, 209, 261,  88,   9, 247, 321, 266,  74, 238,\n",
              "       319, 323,  67, 211,  98,  12,  40, 258, 228, 325, 320, 326, 327,\n",
              "       183, 328, 322, 330,  27, 331, 332, 329,  86, 139, 300, 163, 333,\n",
              "       334,  39, 324, 132, 336, 335, 169, 338, 339, 309, 342, 340, 317,\n",
              "       341, 343, 344, 345, 346, 347, 273,  55, 349, 348, 354, 351, 358,\n",
              "       352, 360, 363, 355, 362, 357, 356, 361, 365, 350, 367, 368, 371,\n",
              "       373, 370, 374, 372, 337, 378, 366, 377, 375, 359, 379, 380, 381,\n",
              "       385, 382, 387, 364, 369, 388, 386, 389, 383, 390, 393, 392, 376,\n",
              "       394, 391, 398, 397, 399, 396, 401, 402, 384, 395, 353, 403, 405,\n",
              "       400, 406, 407, 409, 404, 413, 416, 408, 410, 411, 417, 412, 420,\n",
              "       422, 425, 419, 415, 423, 429, 428, 427, 418, 424, 432, 421, 435,\n",
              "       433, 426, 436, 430, 434, 437, 438, 431, 442, 440, 445, 447, 449,\n",
              "       450, 446, 439, 451, 452, 454, 453, 414, 455, 444, 448, 457, 456,\n",
              "       458, 462, 459, 460, 461, 467, 468, 466, 472, 465, 463, 471, 474,\n",
              "       469, 464, 476, 478, 473, 470, 480, 441, 479, 484, 486, 487, 482,\n",
              "       481, 492, 493, 490, 489, 483, 496, 494, 495, 477, 497, 488, 498,\n",
              "       499, 491, 500, 502, 503, 504, 505, 506, 443, 507, 514, 508, 511,\n",
              "       515, 512, 513, 475, 523, 518, 509, 516, 510, 524, 501, 525, 521,\n",
              "       520, 519, 528, 532, 530, 531, 529, 517, 527, 485, 533, 535, 536,\n",
              "       526, 537, 534, 541, 538, 542, 545, 539, 547, 543, 548, 546, 522,\n",
              "       551, 544, 553, 552, 540, 554, 550, 556, 559, 560, 561, 563, 566,\n",
              "       557, 558, 564, 565, 573, 549, 567, 569, 562, 576, 577, 579, 574,\n",
              "       555, 572, 575, 584, 588, 587, 568, 586, 585, 582, 591, 581, 592,\n",
              "       580, 590, 593, 583, 596, 570, 599, 589, 594, 597, 578, 601, 602,\n",
              "       600, 605, 603, 595, 606, 608, 607, 610, 611, 617, 618, 614, 609,\n",
              "       615, 616, 620, 571, 619, 613, 622, 621, 604, 624, 612, 627, 623,\n",
              "       628, 625, 629, 633, 632, 631, 634, 639, 630, 642, 637, 640, 626,\n",
              "       643, 598, 638, 635, 644, 636, 645, 648, 647, 650, 651, 654, 653,\n",
              "       655, 649, 658, 656, 660, 659, 646, 663, 664, 657, 665, 666, 661,\n",
              "       662, 667, 641, 668, 673, 671, 669, 676, 674, 652, 677, 682, 679,\n",
              "       684, 685, 683, 691, 672, 692, 690, 689, 686, 693, 688, 697, 698,\n",
              "       670, 694, 680, 705, 701, 699, 704, 707, 700, 687, 695, 675, 708,\n",
              "       709, 711, 710, 712, 715, 713, 716, 681, 678, 719, 702, 721, 714,\n",
              "       717, 718, 696, 722, 724, 727, 725, 706, 720, 729, 726, 728, 703,\n",
              "       738, 736, 734, 730, 743, 742, 737, 733, 745, 740, 735, 747, 723,\n",
              "       739, 749, 748, 746, 731, 750, 741, 751, 756, 757, 752, 758, 732,\n",
              "       762, 744, 754, 753, 763, 764, 767, 769, 755, 771, 768, 773, 765,\n",
              "       772, 766, 774, 760, 761, 777, 759, 776, 780, 779, 778, 782, 786,\n",
              "       784, 770, 788, 789, 790, 787, 783, 785, 794, 781, 796, 795, 793,\n",
              "       798, 791, 802, 800, 804, 803, 775, 792, 799, 805, 806, 807, 797,\n",
              "       801, 809, 815, 817, 821, 818, 814, 812, 823, 825, 827, 829, 811,\n",
              "       830, 826, 831, 819, 828, 808, 835, 833, 836, 816, 838, 839, 840,\n",
              "       832, 810, 844, 843, 834, 846, 837, 813, 842, 847, 848, 822, 852,\n",
              "       851, 849, 854, 850, 858, 853, 855, 824, 845, 841, 859, 862, 856,\n",
              "       820, 863, 860, 857, 864, 865, 868, 867, 861, 870, 871, 875, 876,\n",
              "       872, 866, 877, 873, 880, 878, 869, 881, 879, 883, 882, 884, 886,\n",
              "       885, 889, 874, 892, 890, 893, 887, 891, 894, 896, 897, 901, 899,\n",
              "       903, 904, 907, 905, 902, 898, 895, 906, 900, 908, 916, 911, 912,\n",
              "       914, 918, 919, 921, 910, 913, 915, 922, 923, 928, 927, 924, 929,\n",
              "       931, 917, 932, 909, 934, 933, 935, 938, 940, 888, 925, 942, 937,\n",
              "       926, 943, 939, 936, 930, 920, 941])"
            ]
          },
          "metadata": {},
          "execution_count": 28
        }
      ]
    },
    {
      "cell_type": "code",
      "source": [
        "ratings.movieId.unique()"
      ],
      "metadata": {
        "colab": {
          "base_uri": "https://localhost:8080/"
        },
        "id": "b0SZDZtr5OtX",
        "outputId": "a5f3b6a8-7dc6-47b0-e6f9-c4cc75ce857e"
      },
      "execution_count": null,
      "outputs": [
        {
          "output_type": "execute_result",
          "data": {
            "text/plain": [
              "array([ 242,  302,  377, ..., 1637, 1630, 1641])"
            ]
          },
          "metadata": {},
          "execution_count": 21
        }
      ]
    },
    {
      "cell_type": "code",
      "source": [
        "n_users = ratings.userId.max()  #No. of users in the dataset\n",
        "n_items = ratings.movieId.max()\n",
        "A = np.zeros((n_users + 1,n_items + 1))\n",
        "for line in ratings.itertuples():\n",
        "    A[line[1],line[2]] = line[3]\n",
        "print(\"Original rating matrix : \",A)"
      ],
      "metadata": {
        "colab": {
          "base_uri": "https://localhost:8080/"
        },
        "id": "pTqRoXCRp46H",
        "outputId": "bb730aa3-585c-4849-b320-1b0b428def4e"
      },
      "execution_count": 83,
      "outputs": [
        {
          "output_type": "stream",
          "name": "stdout",
          "text": [
            "Original rating matrix :  [[0. 0. 0. ... 0. 0. 0.]\n",
            " [0. 5. 3. ... 0. 0. 0.]\n",
            " [0. 4. 0. ... 0. 0. 0.]\n",
            " ...\n",
            " [0. 5. 0. ... 0. 0. 0.]\n",
            " [0. 0. 0. ... 0. 0. 0.]\n",
            " [0. 0. 5. ... 0. 0. 0.]]\n"
          ]
        }
      ]
    },
    {
      "cell_type": "markdown",
      "source": [
        "Considering, rating >= 3 is liked by the users and rating < 3 is disliked by the user.\n",
        "\n",
        "A[i][j] => whether user (i) likes/dislikes movie (j)\n",
        "\n",
        "A[i][j] = 1 => liked by the user\n",
        "\n",
        "A[i][j] = 0 => disliked by the user"
      ],
      "metadata": {
        "id": "MakQmYI8OmJU"
      }
    },
    {
      "cell_type": "code",
      "source": [
        "for i in range(len(A)):\n",
        "  for j in range(len(A[0])):\n",
        "    if A[i][j]>=3:\n",
        "      A[i][j]=1\n",
        "    else:\n",
        "      A[i][j]=0\n",
        "print(A)"
      ],
      "metadata": {
        "colab": {
          "base_uri": "https://localhost:8080/"
        },
        "id": "Uls9W2xSKprs",
        "outputId": "2190fd80-15e0-46f2-d254-f9eac2d2d124"
      },
      "execution_count": 84,
      "outputs": [
        {
          "output_type": "stream",
          "name": "stdout",
          "text": [
            "[[0. 0. 0. ... 0. 0. 0.]\n",
            " [0. 1. 1. ... 0. 0. 0.]\n",
            " [0. 1. 0. ... 0. 0. 0.]\n",
            " ...\n",
            " [0. 1. 0. ... 0. 0. 0.]\n",
            " [0. 0. 0. ... 0. 0. 0.]\n",
            " [0. 0. 1. ... 0. 0. 0.]]\n"
          ]
        }
      ]
    },
    {
      "cell_type": "markdown",
      "source": [
        "**Movie Similarity Computation**\n",
        "\n",
        "Used KNN algorithm with consine similarity matrix"
      ],
      "metadata": {
        "id": "YYX3hek-WB7H"
      }
    },
    {
      "cell_type": "code",
      "source": [
        "knn = NearestNeighbors(metric='cosine', algorithm='brute', n_jobs=-1)\n",
        "knn.fit(A)"
      ],
      "metadata": {
        "colab": {
          "base_uri": "https://localhost:8080/"
        },
        "id": "Cg1Ur--HWEYK",
        "outputId": "3955d62a-8f7c-4d21-d1ac-50cf9bc2abd1"
      },
      "execution_count": 85,
      "outputs": [
        {
          "output_type": "execute_result",
          "data": {
            "text/plain": [
              "NearestNeighbors(algorithm='brute', metric='cosine', n_jobs=-1)"
            ]
          },
          "metadata": {},
          "execution_count": 85
        }
      ]
    },
    {
      "cell_type": "markdown",
      "source": [
        "**Recommendations for User**"
      ],
      "metadata": {
        "id": "i9BoLNhQXlxK"
      }
    },
    {
      "cell_type": "markdown",
      "source": [
        "Target User = User with userId 1"
      ],
      "metadata": {
        "id": "rd-poRa0XuWG"
      }
    },
    {
      "cell_type": "code",
      "source": [
        "#filter consists of moviesId already liked by seen by user1\n",
        "filter = ratings[ratings['userId'] == 1].movieId\n",
        "filter = filter.tolist()\n",
        "print(\"userId 1 watched: \")\n",
        "for i in filter:\n",
        "  print((movies[movies.movieId == i])['Name'].to_string(index = False))"
      ],
      "metadata": {
        "colab": {
          "base_uri": "https://localhost:8080/"
        },
        "id": "k7IjIKaXkXvp",
        "outputId": "905acf59-a421-41d4-ba1b-b500e9880665"
      },
      "execution_count": 88,
      "outputs": [
        {
          "output_type": "stream",
          "name": "stdout",
          "text": [
            "userId 1 watched: \n",
            "Three Colors: White (1994)\n",
            "Grand Day Out, A (1992)\n",
            "Desperado (1995)\n",
            "Glengarry Glen Ross (1992)\n",
            "Angels and Insects (1995)\n",
            "Groundhog Day (1993)\n",
            "Delicatessen (1991)\n",
            "Hunt for Red October, The (1990)\n",
            "Dirty Dancing (1987)\n",
            "Rock, The (1996)\n",
            "Ed Wood (1994)\n",
            "Star Trek: First Contact (1996)\n",
            "Pillow Book, The (1995)\n",
            "Horseman on the Roof, The (Hussard sur le toit,...\n",
            "Star Trek VI: The Undiscovered Country (1991)\n",
            "From Dusk Till Dawn (1996)\n",
            "So I Married an Axe Murderer (1993)\n",
            "Shawshank Redemption, The (1994)\n",
            "True Romance (1993)\n",
            "Star Trek: The Wrath of Khan (1982)\n",
            "Kull the Conqueror (1997)\n",
            "Independence Day (ID4) (1996)\n",
            "Wallace & Gromit: The Best of Aardman Animation...\n",
            "Wizard of Oz, The (1939)\n",
            "Faster Pussycat! Kill! Kill! (1965)\n",
            "Citizen Kane (1941)\n",
            "Silence of the Lambs, The (1991)\n",
            "Blues Brothers, The (1980)\n",
            "Breaking the Waves (1996)\n",
            "Robert A. Heinlein's The Puppet Masters (1994)\n",
            "Crimson Tide (1995)\n",
            "Four Weddings and a Funeral (1994)\n",
            "Three Colors: Blue (1993)\n",
            "Good, The Bad and The Ugly, The (1966)\n",
            "Bad Boys (1995)\n",
            "Event Horizon (1997)\n",
            "Lawnmower Man, The (1992)\n",
            "Raiders of the Lost Ark (1981)\n",
            "Basic Instinct (1992)\n",
            "Jurassic Park (1993)\n",
            "Pulp Fiction (1994)\n",
            "Good Will Hunting (1997)\n",
            "Hot Shots! Part Deux (1993)\n",
            "Star Trek III: The Search for Spock (1984)\n",
            "Homeward Bound: The Incredible Journey (1993)\n",
            "101 Dalmatians (1996)\n",
            "Mars Attacks! (1996)\n",
            "Striptease (1996)\n",
            "Phenomenon (1996)\n",
            "Field of Dreams (1989)\n",
            "Shanghai Triad (Yao a yao yao dao waipo qiao) (...\n",
            "Theodore Rex (1995)\n",
            "I.Q. (1994)\n",
            "Akira (1988)\n",
            "Carlito's Way (1993)\n",
            "Mask, The (1994)\n",
            "Psycho (1960)\n",
            "Terminator 2: Judgment Day (1991)\n",
            "Room with a View, A (1986)\n",
            "Under Siege (1992)\n",
            "Contact (1997)\n",
            "Hudsucker Proxy, The (1994)\n",
            "Free Willy (1993)\n",
            "Unbearable Lightness of Being, The (1988)\n",
            "Sound of Music, The (1965)\n",
            "Willy Wonka and the Chocolate Factory (1971)\n",
            "Legends of the Fall (1994)\n",
            "Brazil (1985)\n",
            "Moll Flanders (1996)\n",
            "Cape Fear (1991)\n",
            "This Is Spinal Tap (1984)\n",
            "George of the Jungle (1997)\n",
            "Kids in the Hall: Brain Candy (1996)\n",
            "In the Company of Men (1997)\n",
            "Usual Suspects, The (1995)\n",
            "Postino, Il (1994)\n",
            "Dances with Wolves (1990)\n",
            "Dolores Claiborne (1994)\n",
            "Natural Born Killers (1994)\n",
            "Return of the Pink Panther, The (1974)\n",
            "Indiana Jones and the Last Crusade (1989)\n",
            "Army of Darkness (1993)\n",
            "Platoon (1986)\n",
            "Evil Dead II (1987)\n",
            "Swingers (1996)\n",
            "Alien (1979)\n",
            "Grosse Pointe Blank (1997)\n",
            "Young Frankenstein (1974)\n",
            "Supercop (1992)\n",
            "Kolya (1996)\n",
            "Ghost and the Darkness, The (1996)\n",
            "Flipper (1996)\n",
            "Right Stuff, The (1983)\n",
            "Mimic (1997)\n",
            "Nightmare on Elm Street, A (1984)\n",
            "Young Guns (1988)\n",
            "Citizen Ruth (1996)\n",
            "Lost World: Jurassic Park, The (1997)\n",
            "Shining, The (1980)\n",
            "Apocalypse Now (1979)\n",
            "Fifth Element, The (1997)\n",
            "Ref, The (1994)\n",
            "Nightmare Before Christmas, The (1993)\n",
            "Richard III (1995)\n",
            "Batman & Robin (1997)\n",
            "Bound (1996)\n",
            "Last of the Mohicans, The (1992)\n",
            "Kansas City (1996)\n",
            "My Best Friend's Wedding (1997)\n",
            "All Dogs Go to Heaven 2 (1996)\n",
            "Twister (1996)\n",
            "Outbreak (1995)\n",
            "unknown\n",
            "Rumble in the Bronx (1995)\n",
            "Remains of the Day, The (1993)\n",
            "Dead Poets Society (1989)\n",
            "Strange Days (1995)\n",
            "Abyss, The (1989)\n",
            "Star Trek IV: The Voyage Home (1986)\n",
            "Mad Love (1995)\n",
            "Taxi Driver (1976)\n",
            "Ridicule (1996)\n",
            "Maverick (1994)\n",
            "Ace Ventura: Pet Detective (1994)\n",
            "What's Eating Gilbert Grape (1993)\n",
            "Henry V (1989)\n",
            "Fargo (1996)\n",
            "Die Hard 2 (1990)\n",
            "Jungle2Jungle (1997)\n",
            "Monty Python's Life of Brian (1979)\n",
            "Pink Floyd - The Wall (1982)\n",
            "Top Gun (1986)\n",
            "Stargate (1994)\n",
            "Full Metal Jacket (1987)\n",
            "Aristocats, The (1970)\n",
            "Forrest Gump (1994)\n",
            "Cinema Paradiso (1988)\n",
            "Net, The (1995)\n",
            "Dead Man Walking (1995)\n",
            "Chasing Amy (1997)\n",
            "Braveheart (1995)\n",
            "Muppet Treasure Island (1996)\n",
            "Clockwork Orange, A (1971)\n",
            "Godfather: Part II, The (1974)\n",
            "2001: A Space Odyssey (1968)\n",
            "Crow, The (1994)\n",
            "Unhook the Stars (1996)\n",
            "Aliens (1986)\n",
            "Manon of the Spring (Manon des sources) (1986)\n",
            "D3: The Mighty Ducks (1996)\n",
            "Turbo: A Power Rangers Movie (1997)\n",
            "Blade Runner (1982)\n",
            "GoldenEye (1995)\n",
            "Belle de jour (1967)\n",
            "Santa Clause, The (1994)\n",
            "Austin Powers: International Man of Mystery (1997)\n",
            "Full Monty, The (1997)\n",
            "Crumb (1994)\n",
            "20,000 Leagues Under the Sea (1954)\n",
            "M*A*S*H (1970)\n",
            "To Wong Foo, Thanks for Everything! Julie Newma...\n",
            "Gattaca (1997)\n",
            "Gone with the Wind (1939)\n",
            "Sneakers (1992)\n",
            "Sting, The (1973)\n",
            "When the Cats Away (Chacun cherche son chat) (1...\n",
            "Mirror Has Two Faces, The (1996)\n",
            "Welcome to the Dollhouse (1995)\n",
            "Babe (1995)\n",
            "Patton (1970)\n",
            "Jaws (1975)\n",
            "Sgt. Bilko (1996)\n",
            "Long Kiss Goodnight, The (1996)\n",
            "Snow White and the Seven Dwarfs (1937)\n",
            "Toy Story (1995)\n",
            "Graduate, The (1967)\n",
            "Princess Bride, The (1987)\n",
            "Brother Minister: The Assassination of Malcolm ...\n",
            "Chasing Amy (1997)\n",
            "Doom Generation, The (1995)\n",
            "Die Hard (1988)\n",
            "Starship Troopers (1997)\n",
            "Maya Lin: A Strong Clear Vision (1994)\n",
            "Brothers McMullen, The (1995)\n",
            "Weekend at Bernie's (1989)\n",
            "Nadja (1994)\n",
            "Return of the Jedi (1983)\n",
            "Mr. Smith Goes to Washington (1939)\n",
            "Men in Black (1997)\n",
            "Jerry Maguire (1996)\n",
            "Breakfast at Tiffany's (1961)\n",
            "Mystery Science Theater 3000: The Movie (1996)\n",
            "GoodFellas (1990)\n",
            "Lion King, The (1994)\n",
            "Sling Blade (1996)\n",
            "Exotica (1994)\n",
            "Wrong Trousers, The (1993)\n",
            "Billy Madison (1995)\n",
            "On Golden Pond (1981)\n",
            "Operation Dumbo Drop (1995)\n",
            "While You Were Sleeping (1995)\n",
            "Firm, The (1993)\n",
            "Bridge on the River Kwai, The (1957)\n",
            "Priest (1994)\n",
            "Star Wars (1977)\n",
            "Raging Bull (1980)\n",
            "12 Angry Men (1957)\n",
            "Copycat (1995)\n",
            "Searching for Bobby Fischer (1993)\n",
            "Raising Arizona (1987)\n",
            "Reservoir Dogs (1992)\n",
            "Diabolique (1996)\n",
            "Private Benjamin (1980)\n",
            "Haunted World of Edward D. Wood Jr., The (1995)\n",
            "Seven (Se7en) (1995)\n",
            "Devil's Own, The (1997)\n",
            "Free Willy 2: The Adventure Home (1995)\n",
            "Big Night (1996)\n",
            "Godfather, The (1972)\n",
            "French Twist (Gazon maudit) (1995)\n",
            "Fugitive, The (1993)\n",
            "Air Bud (1997)\n",
            "Eat Drink Man Woman (1994)\n",
            "Hoop Dreams (1994)\n",
            "Birdcage, The (1996)\n",
            "Shall We Dance? (1996)\n",
            "Terminator, The (1984)\n",
            "Fish Called Wanda, A (1988)\n",
            "Heavy Metal (1981)\n",
            "Monty Python and the Holy Grail (1974)\n",
            "Frighteners, The (1996)\n",
            "Amadeus (1984)\n",
            "Get Shorty (1995)\n",
            "Steel (1997)\n",
            "Unforgiven (1992)\n",
            "Professional, The (1994)\n",
            "Clerks (1994)\n",
            "Love Bug, The (1969)\n",
            "Beavis and Butt-head Do America (1996)\n",
            "Twelve Monkeys (1995)\n",
            "Jude (1996)\n",
            "Disclosure (1994)\n",
            "Jean de Florette (1986)\n",
            "Cold Comfort Farm (1995)\n",
            "Nikita (La Femme Nikita) (1990)\n",
            "Lone Star (1996)\n",
            "Aladdin (1992)\n",
            "Bram Stoker's Dracula (1992)\n",
            "Quiz Show (1994)\n",
            "Bedknobs and Broomsticks (1971)\n",
            "When Harry Met Sally... (1989)\n",
            "Spitfire Grill, The (1996)\n",
            "Much Ado About Nothing (1993)\n",
            "Batman Returns (1992)\n",
            "Back to the Future (1985)\n",
            "Four Rooms (1995)\n",
            "Cyrano de Bergerac (1990)\n",
            "Smilla's Sense of Snow (1997)\n",
            "Antonia's Line (1995)\n",
            "Batman Forever (1995)\n",
            "White Balloon, The (1995)\n",
            "Three Colors: Red (1994)\n",
            "Mr. Holland's Opus (1995)\n",
            "Truth About Cats & Dogs, The (1996)\n",
            "Madness of King George, The (1994)\n",
            "Sleepless in Seattle (1993)\n",
            "Mighty Aphrodite (1995)\n",
            "Apollo 13 (1995)\n",
            "Empire Strikes Back, The (1980)\n",
            "Cable Guy, The (1996)\n",
            "Sleeper (1973)\n",
            "Home Alone (1990)\n"
          ]
        }
      ]
    },
    {
      "cell_type": "code",
      "source": [
        "#Get 5 similar users\n",
        "ans=[]\n",
        "distances , recommend = knn.kneighbors([A[1]],n_neighbors = 6)\n",
        "recommend"
      ],
      "metadata": {
        "colab": {
          "base_uri": "https://localhost:8080/"
        },
        "id": "vRWU6t3dZS61",
        "outputId": "02b8cdad-076c-4ef2-833b-426f40b008be"
      },
      "execution_count": 89,
      "outputs": [
        {
          "output_type": "execute_result",
          "data": {
            "text/plain": [
              "array([[  1, 916, 864, 268,  92, 823]])"
            ]
          },
          "metadata": {},
          "execution_count": 89
        }
      ]
    },
    {
      "cell_type": "markdown",
      "source": [
        "Recommeding any 5 movies"
      ],
      "metadata": {
        "id": "YxdSnm-ebbCw"
      }
    },
    {
      "cell_type": "code",
      "source": [
        "#Movies similar users liked\n",
        "filter2 = []\n",
        "for i in range(6):\n",
        "  if (i != 1):\n",
        "    temp = ratings[ratings['userId'] == recommend[0][i]].movieId\n",
        "    filter2.extend(temp)\n",
        "\n",
        "#Movies similar to users liked but watched by the target user.\n",
        "count = 0\n",
        "print(\"Recommended Movies:\")\n",
        "for i in filter2:\n",
        "  if i not in filter:\n",
        "    print((movies[movies.movieId == i])['Name'].to_string(index = False))\n",
        "    count += 1\n",
        "\n",
        "  if count == 5:\n",
        "    break"
      ],
      "metadata": {
        "colab": {
          "base_uri": "https://localhost:8080/"
        },
        "id": "tn5eNZNRbYqP",
        "outputId": "7a004fad-77a9-4e18-b00f-b6887bdb1c20"
      },
      "execution_count": 78,
      "outputs": [
        {
          "output_type": "stream",
          "name": "stdout",
          "text": [
            "Recommended Movies:\n",
            "Bronx Tale, A (1993)\n",
            "SubUrbia (1997)\n",
            "Dangerous Minds (1995)\n",
            "Malice (1993)\n",
            "Tombstone (1993)\n"
          ]
        }
      ]
    }
  ]
}